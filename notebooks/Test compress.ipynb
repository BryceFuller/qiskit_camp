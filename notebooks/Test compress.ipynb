{
 "cells": [
  {
   "cell_type": "code",
   "execution_count": null,
   "metadata": {},
   "outputs": [],
   "source": [
    "%matplotlib inline\n",
    "import sys\n",
    "sys.path.append(\"..\")\n",
    "import compress\n",
    "from qiskit import QuantumRegister, ClassicalRegister, QuantumCircuit, execute, Aer\n",
    "import numpy as np\n",
    "from functools import partial\n",
    "from qiskit.aqua.components.optimizers import SPSA\n",
    "from multideterminant_prep import PrepareMultiDeterminantState as pmds\n",
    "import seaborn as sns\n",
    "import matplotlib.pyplot as plt"
   ]
  },
  {
   "cell_type": "markdown",
   "metadata": {},
   "source": [
    "Preparation of a Multi-Determinant States circuit\n",
    "---------------------------------------------------------------------"
   ]
  },
  {
   "cell_type": "code",
   "execution_count": null,
   "metadata": {},
   "outputs": [],
   "source": [
    "in_strings = [\"101\", \"011\", \"110\"]\n",
    "in_weights = [4, 7, 2]\n",
    "circuit = pmds(in_weights, in_strings)\n",
    "circuit.draw(scale=0.5, style={'fold':100}, output='mpl')\n",
    "\n",
    "# Configuration\n",
    "n_shots  = 1000\n",
    "n_trials = 1000\n",
    "n_layers = 3\n",
    "n_params = circuit.width() * n_layers * 3\n",
    "\n",
    "# Build variable bounds\n",
    "variable_bounds_single = (0., 2*np.pi)\n",
    "variable_bounds = [variable_bounds_single] * n_params\n",
    "initial_point = np.random.uniform(low=variable_bounds_single[0],\n",
    "                                  high=variable_bounds_single[1],\n",
    "                                  size=(n_params,)).tolist()\n",
    "circuit.draw(scale=0.5, style={'fold':100}, output='mpl')"
   ]
  },
  {
   "cell_type": "code",
   "execution_count": null,
   "metadata": {},
   "outputs": [],
   "source": [
    "print(\"Circuit has a depth of: {}\".format(circuit.depth()))"
   ]
  },
  {
   "cell_type": "markdown",
   "metadata": {},
   "source": [
    "Preparation of a shallow approximation circuit in parallel\n",
    "-------------------------------------------"
   ]
  },
  {
   "cell_type": "code",
   "execution_count": null,
   "metadata": {},
   "outputs": [],
   "source": [
    "final_circuit = compress.swap_test_with_compression_model(circuit, initial_point)\n",
    "final_circuit.draw(scale=0.5, style={'fold':100}, output='mpl')"
   ]
  },
  {
   "cell_type": "markdown",
   "metadata": {},
   "source": [
    "Compute optimal approximation\n",
    "--------------"
   ]
  },
  {
   "cell_type": "code",
   "execution_count": null,
   "metadata": {},
   "outputs": [],
   "source": [
    "results = compress.cross_validate_qnn_depth(circuit, n_shots, n_trials, n_layers, run=0)\n",
    "results"
   ]
  },
  {
   "cell_type": "code",
   "execution_count": null,
   "metadata": {},
   "outputs": [],
   "source": []
  }
 ],
 "metadata": {
  "kernelspec": {
   "display_name": "Python 3",
   "language": "python",
   "name": "python3"
  },
  "language_info": {
   "codemirror_mode": {
    "name": "ipython",
    "version": 3
   },
   "file_extension": ".py",
   "mimetype": "text/x-python",
   "name": "python",
   "nbconvert_exporter": "python",
   "pygments_lexer": "ipython3",
   "version": "3.6.8"
  }
 },
 "nbformat": 4,
 "nbformat_minor": 2
}
