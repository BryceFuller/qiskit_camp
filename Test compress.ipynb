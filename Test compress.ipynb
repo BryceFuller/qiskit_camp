{
 "cells": [
  {
   "cell_type": "code",
   "execution_count": 1,
   "metadata": {},
   "outputs": [],
   "source": [
    "%matplotlib inline\n",
    "import compress\n",
    "from qiskit import QuantumRegister, ClassicalRegister, QuantumCircuit, execute, Aer"
   ]
  },
  {
   "cell_type": "code",
   "execution_count": 2,
   "metadata": {},
   "outputs": [],
   "source": [
    "q0 = QuantumRegister(3)\n",
    "circuit = QuantumCircuit(q0)\n",
    "#circuit.x(q0)"
   ]
  },
  {
   "cell_type": "code",
   "execution_count": 3,
   "metadata": {},
   "outputs": [
    {
     "data": {
      "text/html": [
       "<pre style=\"word-wrap: normal;white-space: pre;line-height: 15px;\">         \n",
       "q0_0: |0>\n",
       "         \n",
       "q0_1: |0>\n",
       "         \n",
       "q0_2: |0>\n",
       "         </pre>"
      ],
      "text/plain": [
       "<qiskit.tools.visualization._text.TextDrawing at 0x7f22cc449048>"
      ]
     },
     "execution_count": 3,
     "metadata": {},
     "output_type": "execute_result"
    }
   ],
   "source": [
    "circuit.draw()"
   ]
  },
  {
   "cell_type": "code",
   "execution_count": 4,
   "metadata": {},
   "outputs": [],
   "source": [
    "final_circuit = compress.swap_test_with_compression_model(circuit)"
   ]
  },
  {
   "cell_type": "code",
   "execution_count": 5,
   "metadata": {},
   "outputs": [
    {
     "data": {
      "text/html": [
       "<pre style=\"word-wrap: normal;white-space: pre;line-height: 15px;\">                            ░                       \n",
       "             q0_0: |0>──────░──X────────────────────\n",
       "                            ░  │                    \n",
       "             q0_1: |0>──────░──┼──X─────────────────\n",
       "                            ░  │  │                 \n",
       "             q0_2: |0>──────░──┼──┼──X──────────────\n",
       "                            ░  │  │  │              \n",
       "       q0_model_0: |0>──────░──X──┼──┼──────────────\n",
       "                            ░  │  │  │              \n",
       "       q0_model_1: |0>──────░──┼──X──┼──────────────\n",
       "                            ░  │  │  │              \n",
       "       q0_model_2: |0>──────░──┼──┼──X──────────────\n",
       "                      ┌───┐ ░  │  │  │ ┌───┐┌───┐┌─┐\n",
       "    swap_tester_0: |0>┤ H ├────■──■──■─┤ H ├┤ X ├┤M├\n",
       "                      └───┘            └───┘└───┘└╥┘\n",
       "swap_test_result_0: 0 ════════════════════════════╩═\n",
       "                                                    </pre>"
      ],
      "text/plain": [
       "<qiskit.tools.visualization._text.TextDrawing at 0x7f22cc49dbe0>"
      ]
     },
     "execution_count": 5,
     "metadata": {},
     "output_type": "execute_result"
    }
   ],
   "source": [
    "final_circuit.draw()"
   ]
  },
  {
   "cell_type": "code",
   "execution_count": 6,
   "metadata": {},
   "outputs": [
    {
     "data": {
      "text/plain": [
       "1.0"
      ]
     },
     "execution_count": 6,
     "metadata": {},
     "output_type": "execute_result"
    }
   ],
   "source": [
    "compress.compute_approximation_fidelity(circuit)"
   ]
  },
  {
   "cell_type": "code",
   "execution_count": null,
   "metadata": {},
   "outputs": [],
   "source": []
  }
 ],
 "metadata": {
  "kernelspec": {
   "display_name": "Python 3",
   "language": "python",
   "name": "python3"
  },
  "language_info": {
   "codemirror_mode": {
    "name": "ipython",
    "version": 3
   },
   "file_extension": ".py",
   "mimetype": "text/x-python",
   "name": "python",
   "nbconvert_exporter": "python",
   "pygments_lexer": "ipython3",
   "version": "3.6.8"
  }
 },
 "nbformat": 4,
 "nbformat_minor": 2
}
