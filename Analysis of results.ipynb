{
 "cells": [
  {
   "cell_type": "code",
   "execution_count": 1,
   "metadata": {},
   "outputs": [],
   "source": [
    "%matplotlib inline\n",
    "import xarray as xr\n",
    "import seaborn as sns\n",
    "import matplotlib.pyplot as plt"
   ]
  },
  {
   "cell_type": "code",
   "execution_count": 2,
   "metadata": {},
   "outputs": [
    {
     "name": "stdout",
     "output_type": "stream",
     "text": [
      "Populating the interactive namespace from numpy and matplotlib\n"
     ]
    }
   ],
   "source": [
    "get_ipython().run_line_magic('pylab', 'inline')\n",
    "#sns.set_style(\"darkgrid\")\n",
    "pylab.rcParams['figure.figsize'] = (16, 8)\n",
    "pylab.rcParams.update({'font.size': 10})"
   ]
  },
  {
   "cell_type": "code",
   "execution_count": 3,
   "metadata": {},
   "outputs": [
    {
     "data": {
      "text/plain": [
       "<xarray.Dataset>\n",
       "Dimensions:    (iteration: 100, n_iters: 1, n_layers: 1, n_shots: 2, plusminus: 2, run: 100)\n",
       "Coordinates:\n",
       "  * iteration  (iteration) int64 0 1 2 3 4 5 6 7 8 ... 92 93 94 95 96 97 98 99\n",
       "  * n_iters    (n_iters) int64 100\n",
       "  * n_layers   (n_layers) int64 3\n",
       "  * n_shots    (n_shots) int64 100 1000\n",
       "  * plusminus  (plusminus) int64 0 1\n",
       "  * run        (run) int64 0 1 2 3 4 5 6 7 8 9 ... 90 91 92 93 94 95 96 97 98 99\n",
       "Data variables:\n",
       "    fidelity   (n_iters, n_layers, n_shots, run, iteration, plusminus) float64 ..."
      ]
     },
     "execution_count": 3,
     "metadata": {},
     "output_type": "execute_result"
    }
   ],
   "source": [
    "df = xr.open_dataset(\"experiments_results.h5\")\n",
    "df"
   ]
  },
  {
   "cell_type": "code",
   "execution_count": null,
   "metadata": {},
   "outputs": [],
   "source": [
    "sns.lineplot(x='iteration', y='fidelity', hue='n_shots', data=df.fidelity.sel(n_layers=3).to_dataframe().reset_index())\n",
    "plt.legend(df.n_shots.values)\n",
    "plt.title(\"Fidelity improvement with optimiser iterations\")"
   ]
  },
  {
   "cell_type": "code",
   "execution_count": null,
   "metadata": {},
   "outputs": [],
   "source": []
  }
 ],
 "metadata": {
  "kernelspec": {
   "display_name": "Python 3",
   "language": "python",
   "name": "python3"
  },
  "language_info": {
   "codemirror_mode": {
    "name": "ipython",
    "version": 3
   },
   "file_extension": ".py",
   "mimetype": "text/x-python",
   "name": "python",
   "nbconvert_exporter": "python",
   "pygments_lexer": "ipython3",
   "version": "3.6.8"
  }
 },
 "nbformat": 4,
 "nbformat_minor": 2
}
